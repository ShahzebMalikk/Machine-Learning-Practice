{
 "cells": [
  {
   "cell_type": "code",
   "execution_count": 1,
   "metadata": {},
   "outputs": [],
   "source": [
    "import pandas as pd\n",
    "import numpy as np"
   ]
  },
  {
   "cell_type": "code",
   "execution_count": 2,
   "metadata": {},
   "outputs": [],
   "source": [
    "data = pd.read_csv('Mall_customers.csv')"
   ]
  },
  {
   "cell_type": "code",
   "execution_count": 3,
   "metadata": {},
   "outputs": [
    {
     "name": "stdout",
     "output_type": "stream",
     "text": [
      "   CustomerID  Gender  Age  Annual Income (k$)  Spending Score (1-100)\n",
      "0           1    Male   19                  15                      39\n",
      "1           2    Male   21                  15                      81\n",
      "2           3  Female   20                  16                       6\n",
      "3           4  Female   23                  16                      77\n",
      "4           5  Female   31                  17                      40\n"
     ]
    }
   ],
   "source": [
    "print(data.head())"
   ]
  },
  {
   "cell_type": "code",
   "execution_count": 4,
   "metadata": {},
   "outputs": [
    {
     "name": "stdout",
     "output_type": "stream",
     "text": [
      "     CustomerID  Gender  Age  Annual Income (k$)  Spending Score (1-100)\n",
      "195         196  Female   35                 120                      79\n",
      "196         197  Female   45                 126                      28\n",
      "197         198    Male   32                 126                      74\n",
      "198         199    Male   32                 137                      18\n",
      "199         200    Male   30                 137                      83\n"
     ]
    }
   ],
   "source": [
    "print(data.tail())"
   ]
  },
  {
   "cell_type": "markdown",
   "metadata": {},
   "source": [
    "# checking data type"
   ]
  },
  {
   "cell_type": "code",
   "execution_count": 5,
   "metadata": {},
   "outputs": [
    {
     "name": "stdout",
     "output_type": "stream",
     "text": [
      "<class 'pandas.core.frame.DataFrame'>\n",
      "<class 'pandas.core.frame.DataFrame'>\n",
      "RangeIndex: 200 entries, 0 to 199\n",
      "Data columns (total 5 columns):\n",
      "CustomerID                200 non-null int64\n",
      "Gender                    200 non-null object\n",
      "Age                       200 non-null int64\n",
      "Annual Income (k$)        200 non-null int64\n",
      "Spending Score (1-100)    200 non-null int64\n",
      "dtypes: int64(4), object(1)\n",
      "memory usage: 7.9+ KB\n",
      "None\n"
     ]
    }
   ],
   "source": [
    "print(type(data))\n",
    "print(data.info())"
   ]
  },
  {
   "cell_type": "code",
   "execution_count": 6,
   "metadata": {},
   "outputs": [
    {
     "name": "stdout",
     "output_type": "stream",
     "text": [
      "        CustomerID  Gender         Age  Annual Income (k$)  \\\n",
      "count   200.000000     200  200.000000          200.000000   \n",
      "unique         NaN       2         NaN                 NaN   \n",
      "top            NaN  Female         NaN                 NaN   \n",
      "freq           NaN     112         NaN                 NaN   \n",
      "mean    100.500000     NaN   38.850000           60.560000   \n",
      "std      57.879185     NaN   13.969007           26.264721   \n",
      "min       1.000000     NaN   18.000000           15.000000   \n",
      "25%      50.750000     NaN   28.750000           41.500000   \n",
      "50%     100.500000     NaN   36.000000           61.500000   \n",
      "75%     150.250000     NaN   49.000000           78.000000   \n",
      "max     200.000000     NaN   70.000000          137.000000   \n",
      "\n",
      "        Spending Score (1-100)  \n",
      "count               200.000000  \n",
      "unique                     NaN  \n",
      "top                        NaN  \n",
      "freq                       NaN  \n",
      "mean                 50.200000  \n",
      "std                  25.823522  \n",
      "min                   1.000000  \n",
      "25%                  34.750000  \n",
      "50%                  50.000000  \n",
      "75%                  73.000000  \n",
      "max                  99.000000  \n"
     ]
    }
   ],
   "source": [
    "print(data.describe(include=\"all\"))"
   ]
  },
  {
   "cell_type": "markdown",
   "metadata": {},
   "source": [
    "# reading featues"
   ]
  },
  {
   "cell_type": "code",
   "execution_count": 8,
   "metadata": {},
   "outputs": [
    {
     "name": "stdout",
     "output_type": "stream",
     "text": [
      "0       15\n",
      "1       15\n",
      "2       16\n",
      "3       16\n",
      "4       17\n",
      "      ... \n",
      "195    120\n",
      "196    126\n",
      "197    126\n",
      "198    137\n",
      "199    137\n",
      "Name: Annual Income (k$), Length: 200, dtype: int64\n"
     ]
    }
   ],
   "source": [
    "print(data['Annual Income (k$)'])"
   ]
  },
  {
   "cell_type": "code",
   "execution_count": 9,
   "metadata": {},
   "outputs": [
    {
     "name": "stdout",
     "output_type": "stream",
     "text": [
      "0      39\n",
      "1      81\n",
      "2       6\n",
      "3      77\n",
      "4      40\n",
      "       ..\n",
      "195    79\n",
      "196    28\n",
      "197    74\n",
      "198    18\n",
      "199    83\n",
      "Name: Spending Score (1-100), Length: 200, dtype: int64\n"
     ]
    }
   ],
   "source": [
    "print(data['Spending Score (1-100)'])"
   ]
  },
  {
   "cell_type": "code",
   "execution_count": 10,
   "metadata": {},
   "outputs": [
    {
     "name": "stdout",
     "output_type": "stream",
     "text": [
      "     CustomerID  Gender  Age  Annual Income (k$)  Spending Score (1-100)\n",
      "50           51  Female   49                  42                      52\n",
      "51           52    Male   33                  42                      60\n",
      "52           53  Female   31                  43                      54\n",
      "53           54    Male   59                  43                      60\n",
      "54           55  Female   50                  43                      45\n",
      "..          ...     ...  ...                 ...                     ...\n",
      "195         196  Female   35                 120                      79\n",
      "196         197  Female   45                 126                      28\n",
      "197         198    Male   32                 126                      74\n",
      "198         199    Male   32                 137                      18\n",
      "199         200    Male   30                 137                      83\n",
      "\n",
      "[150 rows x 5 columns]\n"
     ]
    }
   ],
   "source": [
    "sl_column = data['CustomerID']\n",
    "print(data[sl_column > 50 ])"
   ]
  },
  {
   "cell_type": "markdown",
   "metadata": {},
   "source": [
    "# label encoding"
   ]
  },
  {
   "cell_type": "code",
   "execution_count": 13,
   "metadata": {},
   "outputs": [
    {
     "name": "stdout",
     "output_type": "stream",
     "text": [
      "0        Male\n",
      "1        Male\n",
      "2      Female\n",
      "3      Female\n",
      "4      Female\n",
      "        ...  \n",
      "195    Female\n",
      "196    Female\n",
      "197      Male\n",
      "198      Male\n",
      "199      Male\n",
      "Name: Gender, Length: 200, dtype: object\n"
     ]
    }
   ],
   "source": [
    "Gender_col = data['Gender']\n",
    "print(Gender_col)"
   ]
  },
  {
   "cell_type": "code",
   "execution_count": 14,
   "metadata": {},
   "outputs": [
    {
     "name": "stdout",
     "output_type": "stream",
     "text": [
      "{'Female', 'Male'}\n"
     ]
    }
   ],
   "source": [
    "print(set(Gender_col))"
   ]
  },
  {
   "cell_type": "code",
   "execution_count": 15,
   "metadata": {},
   "outputs": [],
   "source": [
    "encoding_map = { 'Gender' : {'Male' : 0, 'Female': 1}}\n",
    "data.replace(encoding_map, inplace=True)"
   ]
  },
  {
   "cell_type": "code",
   "execution_count": 17,
   "metadata": {},
   "outputs": [],
   "source": [
    "Gender_col = data['Gender']"
   ]
  },
  {
   "cell_type": "code",
   "execution_count": 18,
   "metadata": {},
   "outputs": [
    {
     "name": "stdout",
     "output_type": "stream",
     "text": [
      "1    112\n",
      "0     88\n",
      "Name: Gender, dtype: int64\n"
     ]
    }
   ],
   "source": [
    "print(Gender_col.value_counts())"
   ]
  },
  {
   "cell_type": "code",
   "execution_count": 19,
   "metadata": {},
   "outputs": [
    {
     "name": "stdout",
     "output_type": "stream",
     "text": [
      "     CustomerID  Gender  Age  Annual Income (k$)  Spending Score (1-100)\n",
      "2             3       1   20                  16                       6\n",
      "3             4       1   23                  16                      77\n",
      "4             5       1   31                  17                      40\n",
      "5             6       1   22                  17                      76\n",
      "6             7       1   35                  18                       6\n",
      "..          ...     ...  ...                 ...                     ...\n",
      "191         192       1   32                 103                      69\n",
      "193         194       1   38                 113                      91\n",
      "194         195       1   47                 120                      16\n",
      "195         196       1   35                 120                      79\n",
      "196         197       1   45                 126                      28\n",
      "\n",
      "[112 rows x 5 columns]\n"
     ]
    }
   ],
   "source": [
    "print(data[Gender_col == 1])"
   ]
  },
  {
   "cell_type": "markdown",
   "metadata": {},
   "source": [
    "# preparing dataset for model\n",
    "\n"
   ]
  },
  {
   "cell_type": "code",
   "execution_count": 20,
   "metadata": {},
   "outputs": [],
   "source": [
    "\n",
    "features = ['Age', 'Annual Income (k$)', 'Spending Score (1-100)']\n",
    "labels = ['Gender']\n",
    "\n",
    "x = data[features]\n",
    "y = data[labels]"
   ]
  },
  {
   "cell_type": "code",
   "execution_count": 21,
   "metadata": {},
   "outputs": [
    {
     "name": "stdout",
     "output_type": "stream",
     "text": [
      "     Age  Annual Income (k$)  Spending Score (1-100)\n",
      "0     19                  15                      39\n",
      "1     21                  15                      81\n",
      "2     20                  16                       6\n",
      "3     23                  16                      77\n",
      "4     31                  17                      40\n",
      "..   ...                 ...                     ...\n",
      "195   35                 120                      79\n",
      "196   45                 126                      28\n",
      "197   32                 126                      74\n",
      "198   32                 137                      18\n",
      "199   30                 137                      83\n",
      "\n",
      "[200 rows x 3 columns]\n"
     ]
    }
   ],
   "source": [
    "print(x)"
   ]
  },
  {
   "cell_type": "code",
   "execution_count": 22,
   "metadata": {},
   "outputs": [
    {
     "name": "stdout",
     "output_type": "stream",
     "text": [
      "     Gender\n",
      "0         0\n",
      "1         0\n",
      "2         1\n",
      "3         1\n",
      "4         1\n",
      "..      ...\n",
      "195       1\n",
      "196       1\n",
      "197       0\n",
      "198       0\n",
      "199       0\n",
      "\n",
      "[200 rows x 1 columns]\n"
     ]
    }
   ],
   "source": [
    "print(y)"
   ]
  },
  {
   "cell_type": "code",
   "execution_count": 23,
   "metadata": {},
   "outputs": [],
   "source": [
    "x = x.values\n",
    "y = y.values"
   ]
  },
  {
   "cell_type": "code",
   "execution_count": 24,
   "metadata": {},
   "outputs": [
    {
     "name": "stdout",
     "output_type": "stream",
     "text": [
      "<class 'numpy.ndarray'>\n",
      "------------------------------\n",
      "[[ 19  15  39]\n",
      " [ 21  15  81]\n",
      " [ 20  16   6]\n",
      " [ 23  16  77]\n",
      " [ 31  17  40]\n",
      " [ 22  17  76]\n",
      " [ 35  18   6]\n",
      " [ 23  18  94]\n",
      " [ 64  19   3]\n",
      " [ 30  19  72]\n",
      " [ 67  19  14]\n",
      " [ 35  19  99]\n",
      " [ 58  20  15]\n",
      " [ 24  20  77]\n",
      " [ 37  20  13]\n",
      " [ 22  20  79]\n",
      " [ 35  21  35]\n",
      " [ 20  21  66]\n",
      " [ 52  23  29]\n",
      " [ 35  23  98]\n",
      " [ 35  24  35]\n",
      " [ 25  24  73]\n",
      " [ 46  25   5]\n",
      " [ 31  25  73]\n",
      " [ 54  28  14]\n",
      " [ 29  28  82]\n",
      " [ 45  28  32]\n",
      " [ 35  28  61]\n",
      " [ 40  29  31]\n",
      " [ 23  29  87]\n",
      " [ 60  30   4]\n",
      " [ 21  30  73]\n",
      " [ 53  33   4]\n",
      " [ 18  33  92]\n",
      " [ 49  33  14]\n",
      " [ 21  33  81]\n",
      " [ 42  34  17]\n",
      " [ 30  34  73]\n",
      " [ 36  37  26]\n",
      " [ 20  37  75]\n",
      " [ 65  38  35]\n",
      " [ 24  38  92]\n",
      " [ 48  39  36]\n",
      " [ 31  39  61]\n",
      " [ 49  39  28]\n",
      " [ 24  39  65]\n",
      " [ 50  40  55]\n",
      " [ 27  40  47]\n",
      " [ 29  40  42]\n",
      " [ 31  40  42]\n",
      " [ 49  42  52]\n",
      " [ 33  42  60]\n",
      " [ 31  43  54]\n",
      " [ 59  43  60]\n",
      " [ 50  43  45]\n",
      " [ 47  43  41]\n",
      " [ 51  44  50]\n",
      " [ 69  44  46]\n",
      " [ 27  46  51]\n",
      " [ 53  46  46]\n",
      " [ 70  46  56]\n",
      " [ 19  46  55]\n",
      " [ 67  47  52]\n",
      " [ 54  47  59]\n",
      " [ 63  48  51]\n",
      " [ 18  48  59]\n",
      " [ 43  48  50]\n",
      " [ 68  48  48]\n",
      " [ 19  48  59]\n",
      " [ 32  48  47]\n",
      " [ 70  49  55]\n",
      " [ 47  49  42]\n",
      " [ 60  50  49]\n",
      " [ 60  50  56]\n",
      " [ 59  54  47]\n",
      " [ 26  54  54]\n",
      " [ 45  54  53]\n",
      " [ 40  54  48]\n",
      " [ 23  54  52]\n",
      " [ 49  54  42]\n",
      " [ 57  54  51]\n",
      " [ 38  54  55]\n",
      " [ 67  54  41]\n",
      " [ 46  54  44]\n",
      " [ 21  54  57]\n",
      " [ 48  54  46]\n",
      " [ 55  57  58]\n",
      " [ 22  57  55]\n",
      " [ 34  58  60]\n",
      " [ 50  58  46]\n",
      " [ 68  59  55]\n",
      " [ 18  59  41]\n",
      " [ 48  60  49]\n",
      " [ 40  60  40]\n",
      " [ 32  60  42]\n",
      " [ 24  60  52]\n",
      " [ 47  60  47]\n",
      " [ 27  60  50]\n",
      " [ 48  61  42]\n",
      " [ 20  61  49]\n",
      " [ 23  62  41]\n",
      " [ 49  62  48]\n",
      " [ 67  62  59]\n",
      " [ 26  62  55]\n",
      " [ 49  62  56]\n",
      " [ 21  62  42]\n",
      " [ 66  63  50]\n",
      " [ 54  63  46]\n",
      " [ 68  63  43]\n",
      " [ 66  63  48]\n",
      " [ 65  63  52]\n",
      " [ 19  63  54]\n",
      " [ 38  64  42]\n",
      " [ 19  64  46]\n",
      " [ 18  65  48]\n",
      " [ 19  65  50]\n",
      " [ 63  65  43]\n",
      " [ 49  65  59]\n",
      " [ 51  67  43]\n",
      " [ 50  67  57]\n",
      " [ 27  67  56]\n",
      " [ 38  67  40]\n",
      " [ 40  69  58]\n",
      " [ 39  69  91]\n",
      " [ 23  70  29]\n",
      " [ 31  70  77]\n",
      " [ 43  71  35]\n",
      " [ 40  71  95]\n",
      " [ 59  71  11]\n",
      " [ 38  71  75]\n",
      " [ 47  71   9]\n",
      " [ 39  71  75]\n",
      " [ 25  72  34]\n",
      " [ 31  72  71]\n",
      " [ 20  73   5]\n",
      " [ 29  73  88]\n",
      " [ 44  73   7]\n",
      " [ 32  73  73]\n",
      " [ 19  74  10]\n",
      " [ 35  74  72]\n",
      " [ 57  75   5]\n",
      " [ 32  75  93]\n",
      " [ 28  76  40]\n",
      " [ 32  76  87]\n",
      " [ 25  77  12]\n",
      " [ 28  77  97]\n",
      " [ 48  77  36]\n",
      " [ 32  77  74]\n",
      " [ 34  78  22]\n",
      " [ 34  78  90]\n",
      " [ 43  78  17]\n",
      " [ 39  78  88]\n",
      " [ 44  78  20]\n",
      " [ 38  78  76]\n",
      " [ 47  78  16]\n",
      " [ 27  78  89]\n",
      " [ 37  78   1]\n",
      " [ 30  78  78]\n",
      " [ 34  78   1]\n",
      " [ 30  78  73]\n",
      " [ 56  79  35]\n",
      " [ 29  79  83]\n",
      " [ 19  81   5]\n",
      " [ 31  81  93]\n",
      " [ 50  85  26]\n",
      " [ 36  85  75]\n",
      " [ 42  86  20]\n",
      " [ 33  86  95]\n",
      " [ 36  87  27]\n",
      " [ 32  87  63]\n",
      " [ 40  87  13]\n",
      " [ 28  87  75]\n",
      " [ 36  87  10]\n",
      " [ 36  87  92]\n",
      " [ 52  88  13]\n",
      " [ 30  88  86]\n",
      " [ 58  88  15]\n",
      " [ 27  88  69]\n",
      " [ 59  93  14]\n",
      " [ 35  93  90]\n",
      " [ 37  97  32]\n",
      " [ 32  97  86]\n",
      " [ 46  98  15]\n",
      " [ 29  98  88]\n",
      " [ 41  99  39]\n",
      " [ 30  99  97]\n",
      " [ 54 101  24]\n",
      " [ 28 101  68]\n",
      " [ 41 103  17]\n",
      " [ 36 103  85]\n",
      " [ 34 103  23]\n",
      " [ 32 103  69]\n",
      " [ 33 113   8]\n",
      " [ 38 113  91]\n",
      " [ 47 120  16]\n",
      " [ 35 120  79]\n",
      " [ 45 126  28]\n",
      " [ 32 126  74]\n",
      " [ 32 137  18]\n",
      " [ 30 137  83]]\n"
     ]
    }
   ],
   "source": [
    "print(type(x))\n",
    "print('-'*30)\n",
    "print(x)"
   ]
  },
  {
   "cell_type": "markdown",
   "metadata": {},
   "source": [
    "# Example #multiply all values of matix"
   ]
  },
  {
   "cell_type": "code",
   "execution_count": 25,
   "metadata": {},
   "outputs": [
    {
     "data": {
      "text/plain": [
       "array([[ 38,  30,  78],\n",
       "       [ 42,  30, 162],\n",
       "       [ 40,  32,  12],\n",
       "       [ 46,  32, 154],\n",
       "       [ 62,  34,  80],\n",
       "       [ 44,  34, 152],\n",
       "       [ 70,  36,  12],\n",
       "       [ 46,  36, 188],\n",
       "       [128,  38,   6],\n",
       "       [ 60,  38, 144],\n",
       "       [134,  38,  28],\n",
       "       [ 70,  38, 198],\n",
       "       [116,  40,  30],\n",
       "       [ 48,  40, 154],\n",
       "       [ 74,  40,  26],\n",
       "       [ 44,  40, 158],\n",
       "       [ 70,  42,  70],\n",
       "       [ 40,  42, 132],\n",
       "       [104,  46,  58],\n",
       "       [ 70,  46, 196],\n",
       "       [ 70,  48,  70],\n",
       "       [ 50,  48, 146],\n",
       "       [ 92,  50,  10],\n",
       "       [ 62,  50, 146],\n",
       "       [108,  56,  28],\n",
       "       [ 58,  56, 164],\n",
       "       [ 90,  56,  64],\n",
       "       [ 70,  56, 122],\n",
       "       [ 80,  58,  62],\n",
       "       [ 46,  58, 174],\n",
       "       [120,  60,   8],\n",
       "       [ 42,  60, 146],\n",
       "       [106,  66,   8],\n",
       "       [ 36,  66, 184],\n",
       "       [ 98,  66,  28],\n",
       "       [ 42,  66, 162],\n",
       "       [ 84,  68,  34],\n",
       "       [ 60,  68, 146],\n",
       "       [ 72,  74,  52],\n",
       "       [ 40,  74, 150],\n",
       "       [130,  76,  70],\n",
       "       [ 48,  76, 184],\n",
       "       [ 96,  78,  72],\n",
       "       [ 62,  78, 122],\n",
       "       [ 98,  78,  56],\n",
       "       [ 48,  78, 130],\n",
       "       [100,  80, 110],\n",
       "       [ 54,  80,  94],\n",
       "       [ 58,  80,  84],\n",
       "       [ 62,  80,  84],\n",
       "       [ 98,  84, 104],\n",
       "       [ 66,  84, 120],\n",
       "       [ 62,  86, 108],\n",
       "       [118,  86, 120],\n",
       "       [100,  86,  90],\n",
       "       [ 94,  86,  82],\n",
       "       [102,  88, 100],\n",
       "       [138,  88,  92],\n",
       "       [ 54,  92, 102],\n",
       "       [106,  92,  92],\n",
       "       [140,  92, 112],\n",
       "       [ 38,  92, 110],\n",
       "       [134,  94, 104],\n",
       "       [108,  94, 118],\n",
       "       [126,  96, 102],\n",
       "       [ 36,  96, 118],\n",
       "       [ 86,  96, 100],\n",
       "       [136,  96,  96],\n",
       "       [ 38,  96, 118],\n",
       "       [ 64,  96,  94],\n",
       "       [140,  98, 110],\n",
       "       [ 94,  98,  84],\n",
       "       [120, 100,  98],\n",
       "       [120, 100, 112],\n",
       "       [118, 108,  94],\n",
       "       [ 52, 108, 108],\n",
       "       [ 90, 108, 106],\n",
       "       [ 80, 108,  96],\n",
       "       [ 46, 108, 104],\n",
       "       [ 98, 108,  84],\n",
       "       [114, 108, 102],\n",
       "       [ 76, 108, 110],\n",
       "       [134, 108,  82],\n",
       "       [ 92, 108,  88],\n",
       "       [ 42, 108, 114],\n",
       "       [ 96, 108,  92],\n",
       "       [110, 114, 116],\n",
       "       [ 44, 114, 110],\n",
       "       [ 68, 116, 120],\n",
       "       [100, 116,  92],\n",
       "       [136, 118, 110],\n",
       "       [ 36, 118,  82],\n",
       "       [ 96, 120,  98],\n",
       "       [ 80, 120,  80],\n",
       "       [ 64, 120,  84],\n",
       "       [ 48, 120, 104],\n",
       "       [ 94, 120,  94],\n",
       "       [ 54, 120, 100],\n",
       "       [ 96, 122,  84],\n",
       "       [ 40, 122,  98],\n",
       "       [ 46, 124,  82],\n",
       "       [ 98, 124,  96],\n",
       "       [134, 124, 118],\n",
       "       [ 52, 124, 110],\n",
       "       [ 98, 124, 112],\n",
       "       [ 42, 124,  84],\n",
       "       [132, 126, 100],\n",
       "       [108, 126,  92],\n",
       "       [136, 126,  86],\n",
       "       [132, 126,  96],\n",
       "       [130, 126, 104],\n",
       "       [ 38, 126, 108],\n",
       "       [ 76, 128,  84],\n",
       "       [ 38, 128,  92],\n",
       "       [ 36, 130,  96],\n",
       "       [ 38, 130, 100],\n",
       "       [126, 130,  86],\n",
       "       [ 98, 130, 118],\n",
       "       [102, 134,  86],\n",
       "       [100, 134, 114],\n",
       "       [ 54, 134, 112],\n",
       "       [ 76, 134,  80],\n",
       "       [ 80, 138, 116],\n",
       "       [ 78, 138, 182],\n",
       "       [ 46, 140,  58],\n",
       "       [ 62, 140, 154],\n",
       "       [ 86, 142,  70],\n",
       "       [ 80, 142, 190],\n",
       "       [118, 142,  22],\n",
       "       [ 76, 142, 150],\n",
       "       [ 94, 142,  18],\n",
       "       [ 78, 142, 150],\n",
       "       [ 50, 144,  68],\n",
       "       [ 62, 144, 142],\n",
       "       [ 40, 146,  10],\n",
       "       [ 58, 146, 176],\n",
       "       [ 88, 146,  14],\n",
       "       [ 64, 146, 146],\n",
       "       [ 38, 148,  20],\n",
       "       [ 70, 148, 144],\n",
       "       [114, 150,  10],\n",
       "       [ 64, 150, 186],\n",
       "       [ 56, 152,  80],\n",
       "       [ 64, 152, 174],\n",
       "       [ 50, 154,  24],\n",
       "       [ 56, 154, 194],\n",
       "       [ 96, 154,  72],\n",
       "       [ 64, 154, 148],\n",
       "       [ 68, 156,  44],\n",
       "       [ 68, 156, 180],\n",
       "       [ 86, 156,  34],\n",
       "       [ 78, 156, 176],\n",
       "       [ 88, 156,  40],\n",
       "       [ 76, 156, 152],\n",
       "       [ 94, 156,  32],\n",
       "       [ 54, 156, 178],\n",
       "       [ 74, 156,   2],\n",
       "       [ 60, 156, 156],\n",
       "       [ 68, 156,   2],\n",
       "       [ 60, 156, 146],\n",
       "       [112, 158,  70],\n",
       "       [ 58, 158, 166],\n",
       "       [ 38, 162,  10],\n",
       "       [ 62, 162, 186],\n",
       "       [100, 170,  52],\n",
       "       [ 72, 170, 150],\n",
       "       [ 84, 172,  40],\n",
       "       [ 66, 172, 190],\n",
       "       [ 72, 174,  54],\n",
       "       [ 64, 174, 126],\n",
       "       [ 80, 174,  26],\n",
       "       [ 56, 174, 150],\n",
       "       [ 72, 174,  20],\n",
       "       [ 72, 174, 184],\n",
       "       [104, 176,  26],\n",
       "       [ 60, 176, 172],\n",
       "       [116, 176,  30],\n",
       "       [ 54, 176, 138],\n",
       "       [118, 186,  28],\n",
       "       [ 70, 186, 180],\n",
       "       [ 74, 194,  64],\n",
       "       [ 64, 194, 172],\n",
       "       [ 92, 196,  30],\n",
       "       [ 58, 196, 176],\n",
       "       [ 82, 198,  78],\n",
       "       [ 60, 198, 194],\n",
       "       [108, 202,  48],\n",
       "       [ 56, 202, 136],\n",
       "       [ 82, 206,  34],\n",
       "       [ 72, 206, 170],\n",
       "       [ 68, 206,  46],\n",
       "       [ 64, 206, 138],\n",
       "       [ 66, 226,  16],\n",
       "       [ 76, 226, 182],\n",
       "       [ 94, 240,  32],\n",
       "       [ 70, 240, 158],\n",
       "       [ 90, 252,  56],\n",
       "       [ 64, 252, 148],\n",
       "       [ 64, 274,  36],\n",
       "       [ 60, 274, 166]])"
      ]
     },
     "execution_count": 25,
     "metadata": {},
     "output_type": "execute_result"
    }
   ],
   "source": [
    "\n",
    "\n",
    "x * 2"
   ]
  },
  {
   "cell_type": "code",
   "execution_count": null,
   "metadata": {},
   "outputs": [],
   "source": []
  },
  {
   "cell_type": "code",
   "execution_count": null,
   "metadata": {},
   "outputs": [],
   "source": []
  }
 ],
 "metadata": {
  "kernelspec": {
   "display_name": "Python 3",
   "language": "python",
   "name": "python3"
  },
  "language_info": {
   "codemirror_mode": {
    "name": "ipython",
    "version": 3
   },
   "file_extension": ".py",
   "mimetype": "text/x-python",
   "name": "python",
   "nbconvert_exporter": "python",
   "pygments_lexer": "ipython3",
   "version": "3.7.4"
  }
 },
 "nbformat": 4,
 "nbformat_minor": 2
}
