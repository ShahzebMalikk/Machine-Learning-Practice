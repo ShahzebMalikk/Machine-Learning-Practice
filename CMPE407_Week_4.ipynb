{
 "cells": [
  {
   "cell_type": "markdown",
   "metadata": {
    "colab_type": "text",
    "id": "3EVoshXYjbcU"
   },
   "source": [
    "## Implementations"
   ]
  },
  {
   "cell_type": "code",
   "execution_count": 0,
   "metadata": {
    "colab": {},
    "colab_type": "code",
    "collapsed": true,
    "id": "_N7rDXZtU7Tg"
   },
   "outputs": [],
   "source": [
    "import pandas\n",
    "import numpy as np\n",
    "import matplotlib.pyplot as plt\n",
    "import seaborn as sns; sns.set()\n",
    "\n",
    "print(sns.__version__)"
   ]
  },
  {
   "cell_type": "markdown",
   "metadata": {
    "colab_type": "text",
    "id": "gy5FxFHGwD64"
   },
   "source": [
    "# Remainder for barplot"
   ]
  },
  {
   "cell_type": "code",
   "execution_count": 0,
   "metadata": {
    "colab": {},
    "colab_type": "code",
    "collapsed": true,
    "id": "jpvYIzirte7b"
   },
   "outputs": [],
   "source": [
    "data = pandas.read_csv('HousePrices.csv')\n",
    "data.head()"
   ]
  },
  {
   "cell_type": "code",
   "execution_count": 0,
   "metadata": {
    "colab": {},
    "colab_type": "code",
    "collapsed": true,
    "id": "wrvF-m3QwVzr"
   },
   "outputs": [],
   "source": [
    "sns.barplot(x=data['Garage'].values, y=data['Prices'].values)"
   ]
  },
  {
   "cell_type": "code",
   "execution_count": 0,
   "metadata": {
    "colab": {},
    "colab_type": "code",
    "collapsed": true,
    "id": "zYrPMnySwdvW"
   },
   "outputs": [],
   "source": [
    "sns.boxplot(x=data['Garage'].values, y=data['Prices'].values)"
   ]
  },
  {
   "cell_type": "code",
   "execution_count": 0,
   "metadata": {
    "colab": {},
    "colab_type": "code",
    "collapsed": true,
    "id": "o5E17hvtvc8k"
   },
   "outputs": [],
   "source": [
    "sns.scatterplot(x=data['Garage'].values, y=data['Prices'].values)"
   ]
  },
  {
   "cell_type": "code",
   "execution_count": 0,
   "metadata": {
    "colab": {},
    "colab_type": "code",
    "collapsed": true,
    "id": "9y1D2ghY04G6"
   },
   "outputs": [],
   "source": [
    "X = np.arange(1, 100)\n",
    "y = X**2 + 3\n",
    "\n",
    "data = pandas.DataFrame(zip(X, y), columns=['X', 'y'])\n",
    "print(data.head())"
   ]
  },
  {
   "cell_type": "code",
   "execution_count": 0,
   "metadata": {
    "colab": {},
    "colab_type": "code",
    "collapsed": true,
    "id": "lUIc-GJ4MzL3"
   },
   "outputs": [],
   "source": [
    "sns.lineplot(x='X', y='y', data=data)"
   ]
  },
  {
   "cell_type": "code",
   "execution_count": 0,
   "metadata": {
    "colab": {},
    "colab_type": "code",
    "collapsed": true,
    "id": "DjrDCqkf2NA1"
   },
   "outputs": [],
   "source": [
    "sns.scatterplot(x='X', y='y', data=data)"
   ]
  },
  {
   "cell_type": "code",
   "execution_count": 0,
   "metadata": {
    "colab": {},
    "colab_type": "code",
    "collapsed": true,
    "id": "scK6JvDc2R15"
   },
   "outputs": [],
   "source": [
    "sns.barplot(x='X', y='y', data=data)"
   ]
  },
  {
   "cell_type": "markdown",
   "metadata": {
    "colab_type": "text",
    "id": "lb3dEQfEWpjB"
   },
   "source": [
    "# Can we teach a computer addition?"
   ]
  },
  {
   "cell_type": "code",
   "execution_count": 0,
   "metadata": {
    "colab": {},
    "colab_type": "code",
    "collapsed": true,
    "id": "h1-L2AUIGns9"
   },
   "outputs": [],
   "source": [
    "X1 = np.arange(1, 1000)\n",
    "X2 = np.arange(1, 1000)\n",
    "y = X1 + X2\n",
    "\n",
    "data = pandas.DataFrame(zip(X1, X2, y), columns=['X1', 'X2', 'y'])\n",
    "print(data.head())\n",
    "\n",
    "# X = data[['X1', 'X2']].values.reshape(-1, 1)\n",
    "X = data[['X1', 'X2']].values\n",
    "y = data['y'].values"
   ]
  },
  {
   "cell_type": "code",
   "execution_count": 0,
   "metadata": {
    "colab": {},
    "colab_type": "code",
    "collapsed": true,
    "id": "flM83wssInY6"
   },
   "outputs": [],
   "source": [
    "sns.lineplot(x='X1', y='y', data=data)"
   ]
  },
  {
   "cell_type": "code",
   "execution_count": 0,
   "metadata": {
    "colab": {},
    "colab_type": "code",
    "collapsed": true,
    "id": "DL_cU_s1EeOL"
   },
   "outputs": [],
   "source": [
    "from sklearn.model_selection import train_test_split\n",
    "X_train, X_test, y_train, y_test = train_test_split(X, y, test_size=0.2)"
   ]
  },
  {
   "cell_type": "code",
   "execution_count": 0,
   "metadata": {
    "colab": {},
    "colab_type": "code",
    "collapsed": true,
    "id": "db9AO4WIFY3-"
   },
   "outputs": [],
   "source": [
    "from sklearn.linear_model import LinearRegression\n",
    "reg = LinearRegression()\n",
    "reg.fit(X_train, y_train)"
   ]
  },
  {
   "cell_type": "code",
   "execution_count": 0,
   "metadata": {
    "colab": {},
    "colab_type": "code",
    "collapsed": true,
    "id": "F8yetB9b5cIy"
   },
   "outputs": [],
   "source": [
    "reg.coef_"
   ]
  },
  {
   "cell_type": "markdown",
   "metadata": {
    "colab_type": "text",
    "id": "xODzjlr524f5"
   },
   "source": [
    "## _How we can evaluate our model? Is accuracy suitable?_"
   ]
  },
  {
   "cell_type": "code",
   "execution_count": 0,
   "metadata": {
    "colab": {},
    "colab_type": "code",
    "collapsed": true,
    "id": "Fh5_z74c3JA_"
   },
   "outputs": [],
   "source": [
    "from sklearn.metrics import mean_absolute_error\n",
    "\n",
    "predictions = reg.predict(X_test)\n",
    "print(f'MAE Score: {mean_absolute_error(predictions, y_test)}')"
   ]
  },
  {
   "cell_type": "code",
   "execution_count": 0,
   "metadata": {
    "colab": {},
    "colab_type": "code",
    "collapsed": true,
    "id": "Ylql4iZ1HaT0"
   },
   "outputs": [],
   "source": [
    "examples = [[5,7], [2,2], [127, 20]]\n",
    "reg.predict(examples)"
   ]
  },
  {
   "cell_type": "markdown",
   "metadata": {
    "colab_type": "text",
    "id": "wXr44Niz4_fz"
   },
   "source": [
    "## _What if we train linear regression model on non-linear function?_"
   ]
  },
  {
   "cell_type": "code",
   "execution_count": 0,
   "metadata": {
    "colab": {},
    "colab_type": "code",
    "collapsed": true,
    "id": "XACtAIv248dc"
   },
   "outputs": [],
   "source": [
    "non_linear_X1 = np.arange(1, 1000)\n",
    "non_linear_X2 = np.arange(1, 1000)\n",
    "non_linear_y = non_linear_X1 * non_linear_X2\n",
    "\n",
    "non_linear_data = pandas.DataFrame(zip(non_linear_X1, non_linear_X2, non_linear_y), columns=['X1', 'X2', 'y'])\n",
    "non_linear_X = non_linear_data[['X1', 'X2']].values\n",
    "non_linear_y = non_linear_data['y'].values\n",
    "\n",
    "(non_linear_X_train, non_linear_X_test, \n",
    " non_linear_y_train, non_linear_y_test) = train_test_split(non_linear_X, non_linear_y, test_size=0.2)\n",
    "\n",
    "sns.lineplot(x='X1', y='y', data=non_linear_data)"
   ]
  },
  {
   "cell_type": "code",
   "execution_count": 0,
   "metadata": {
    "colab": {},
    "colab_type": "code",
    "collapsed": true,
    "id": "SOMTDMXZ58u_"
   },
   "outputs": [],
   "source": [
    "non_linear_reg = LinearRegression()\n",
    "non_linear_reg.fit(non_linear_X_train, non_linear_y_train)\n",
    "\n",
    "non_linear_predictions = non_linear_reg.predict(X_test)\n",
    "print(f'MAE Score of non_linear_regression model: {mean_absolute_error(non_linear_predictions, non_linear_y_test)}')"
   ]
  },
  {
   "cell_type": "code",
   "execution_count": 0,
   "metadata": {
    "colab": {},
    "colab_type": "code",
    "collapsed": true,
    "id": "s5MQZ8Hm3-7L"
   },
   "outputs": [],
   "source": [
    "temp_X1 = np.arange(1, 1000)\n",
    "temp_X2 = np.arange(1, 1000)\n",
    "temp_y = non_linear_reg.coef_[0] * temp_X1 + non_linear_reg.coef_[1] * temp_X2\n",
    "\n",
    "sns.lineplot(x='X1', y='y', data=non_linear_data, legend='brief', label='groundtruth')\n",
    "sns.lineplot(x=temp_X1, y=temp_y, legend='brief', label='prediction')"
   ]
  },
  {
   "cell_type": "markdown",
   "metadata": {
    "colab_type": "text",
    "id": "OTzZEslF1gLo"
   },
   "source": [
    "# Boston House Prices"
   ]
  },
  {
   "cell_type": "code",
   "execution_count": 0,
   "metadata": {
    "colab": {},
    "colab_type": "code",
    "collapsed": true,
    "id": "jORPqVhkufLF"
   },
   "outputs": [],
   "source": [
    "from sklearn.datasets import load_boston\n",
    "\n",
    "boston_dataset = load_boston()"
   ]
  },
  {
   "cell_type": "code",
   "execution_count": 0,
   "metadata": {
    "colab": {},
    "colab_type": "code",
    "collapsed": true,
    "id": "dCINOPt7wxo6"
   },
   "outputs": [],
   "source": [
    "data = boston_dataset.data\n",
    "target = boston_dataset.target\n",
    "print(boston_dataset.DESCR)"
   ]
  },
  {
   "cell_type": "code",
   "execution_count": 0,
   "metadata": {
    "colab": {},
    "colab_type": "code",
    "collapsed": true,
    "id": "g_Qfc3QM2hd5"
   },
   "outputs": [],
   "source": [
    "data = pandas.DataFrame(data, columns=boston_dataset.feature_names)\n",
    "data['PRICES'] = boston_dataset.target\n",
    "data.head()"
   ]
  },
  {
   "cell_type": "code",
   "execution_count": 0,
   "metadata": {
    "colab": {},
    "colab_type": "code",
    "collapsed": true,
    "id": "Ce3c6Occ3FXs"
   },
   "outputs": [],
   "source": [
    "data.describe()"
   ]
  },
  {
   "cell_type": "code",
   "execution_count": 0,
   "metadata": {
    "colab": {},
    "colab_type": "code",
    "collapsed": true,
    "id": "k_jL7qqocGbi"
   },
   "outputs": [],
   "source": [
    "sns.scatterplot(data['LSTAT'], data['PRICES'])\n",
    "plt.xlabel('% lower status of the population')\n",
    "plt.ylabel('PRICES')"
   ]
  },
  {
   "cell_type": "code",
   "execution_count": 0,
   "metadata": {
    "colab": {},
    "colab_type": "code",
    "collapsed": true,
    "id": "u_7WABZPd5dv"
   },
   "outputs": [],
   "source": [
    "sns.scatterplot(data['DIS'], data['PRICES'])\n",
    "plt.xlabel('weighted distances to five Boston employment centres')\n",
    "plt.ylabel('Prices')"
   ]
  },
  {
   "cell_type": "code",
   "execution_count": 0,
   "metadata": {
    "colab": {},
    "colab_type": "code",
    "collapsed": true,
    "id": "dzg0wMjmc1cf"
   },
   "outputs": [],
   "source": [
    "sns.scatterplot(data['RM'], data['PRICES'])\n",
    "plt.ylabel('Prices')"
   ]
  },
  {
   "cell_type": "code",
   "execution_count": 0,
   "metadata": {
    "colab": {},
    "colab_type": "code",
    "collapsed": true,
    "id": "AV5vSwk1giFO"
   },
   "outputs": [],
   "source": [
    "sns.scatterplot(data['CRIM'], data['PRICES'])\n",
    "plt.ylabel('Prices')"
   ]
  },
  {
   "cell_type": "code",
   "execution_count": 0,
   "metadata": {
    "colab": {},
    "colab_type": "code",
    "collapsed": true,
    "id": "3d6AIfl8jj6D"
   },
   "outputs": [],
   "source": [
    "sns.scatterplot(data['PTRATIO'], data['PRICES'])"
   ]
  },
  {
   "cell_type": "code",
   "execution_count": 0,
   "metadata": {
    "colab": {},
    "colab_type": "code",
    "collapsed": true,
    "id": "nTz2Av4heUkq"
   },
   "outputs": [],
   "source": [
    "sns.distplot(data['PTRATIO'])\n",
    "plt.xlabel('pupil-teacher ratio by town')"
   ]
  },
  {
   "cell_type": "code",
   "execution_count": 0,
   "metadata": {
    "colab": {},
    "colab_type": "code",
    "collapsed": true,
    "id": "4bPxs8WQkW2Q"
   },
   "outputs": [],
   "source": [
    "sns.heatmap(data.corr())"
   ]
  },
  {
   "cell_type": "code",
   "execution_count": 0,
   "metadata": {
    "colab": {},
    "colab_type": "code",
    "collapsed": true,
    "id": "Uh5BACO_4UgA"
   },
   "outputs": [],
   "source": [
    "features = ['CRIM', 'ZN', 'INDUS', 'CHAS', 'NOX', 'RM', 'AGE', 'DIS', 'RAD',\n",
    "            'TAX', 'PTRATIO', 'B', 'LSTAT']\n",
    "label = ['PRICES']\n",
    "X = data[features].values\n",
    "y = data[label].values"
   ]
  },
  {
   "cell_type": "markdown",
   "metadata": {
    "colab_type": "text",
    "id": "eW2AC1_dzfAr"
   },
   "source": [
    "## Regression Model"
   ]
  },
  {
   "cell_type": "code",
   "execution_count": 0,
   "metadata": {
    "colab": {},
    "colab_type": "code",
    "collapsed": true,
    "id": "eYZXPkqZ4a6I"
   },
   "outputs": [],
   "source": [
    "from sklearn.model_selection import train_test_split\n",
    "\n",
    "# 80% Train, 10% Validation, %10 Test\n",
    "X_train, X_test, y_train, y_test = train_test_split(X, y, test_size=0.2, random_state=42) \n",
    "X_valid, X_test, y_valid, y_test = train_test_split(X_test, y_test, test_size=0.5, random_state=42)\n",
    "\n",
    "print(f'Total # of sample in whole dataset: {len(X)}')\n",
    "print(f'Total # of sample in train dataset: {len(X_train)}')\n",
    "print(f'Total # of sample in validation dataset: {len(X_valid)}')\n",
    "print(f'Total # of sample in test dataset: {len(X_test)}')"
   ]
  },
  {
   "cell_type": "code",
   "execution_count": 0,
   "metadata": {
    "colab": {},
    "colab_type": "code",
    "collapsed": true,
    "id": "N_isVa2S4glI"
   },
   "outputs": [],
   "source": [
    "from sklearn.linear_model import LinearRegression\n",
    "\n",
    "reg = LinearRegression()\n",
    "reg.fit(X_train, y_train)"
   ]
  },
  {
   "cell_type": "code",
   "execution_count": 0,
   "metadata": {
    "colab": {},
    "colab_type": "code",
    "collapsed": true,
    "id": "IW6BkStxp57n"
   },
   "outputs": [],
   "source": [
    "from sklearn.metrics import mean_absolute_error\n",
    "\n",
    "predictions = reg.predict(X_valid)\n",
    "print(f'MAE Score: {mean_absolute_error(predictions, y_valid)}')"
   ]
  },
  {
   "cell_type": "markdown",
   "metadata": {
    "colab_type": "text",
    "id": "66cDtMQTrFpk"
   },
   "source": [
    "## Can we improve the results?\n",
    "\n",
    "> Normalization\n",
    "\n",
    "$X_{norm} = \\frac{X - X_{min}}{X_{max} - X_{min}}$\n",
    "\n",
    "$X_{norm} = \\frac{X}{max(X)}$ (Max)\n",
    "\n",
    "$X_{norm} = \\frac{X}{\\sum_{i}{|X_i|}}$ (L1 Norm)\n",
    "\n",
    "$X_{norm} = \\frac{X}{\\sqrt{\\sum_{i}{X_i^2}}}$ (L2 Norm)\n",
    "\n",
    "\n",
    "\n"
   ]
  },
  {
   "cell_type": "code",
   "execution_count": 0,
   "metadata": {
    "colab": {},
    "colab_type": "code",
    "collapsed": true,
    "id": "6GK4HrBt6eaM"
   },
   "outputs": [],
   "source": [
    "from sklearn.preprocessing import normalize\n",
    "\n",
    "# X_norm = (X - X.min(axis=0)) / (X.max(axis=0) - X.min(axis=0))\n",
    "# X_norm = normalize(X, norm='max')\n",
    "\n",
    "# X_norm = X / np.sqrt((X*X).sum(axis=1))[:, np.newaxis] # L2 Norm\n",
    "X_norm = normalize(X, norm='l2')\n",
    "\n",
    "X_train, X_test, y_train, y_test = train_test_split(X_norm, y, test_size=0.2, random_state=42) \n",
    "X_valid, X_test, y_valid, y_test = train_test_split(X_test, y_test, test_size=0.5, random_state=42)"
   ]
  },
  {
   "cell_type": "code",
   "execution_count": 0,
   "metadata": {
    "colab": {},
    "colab_type": "code",
    "collapsed": true,
    "id": "U-FE0GHd5PVt"
   },
   "outputs": [],
   "source": [
    "reg = LinearRegression()\n",
    "reg.fit(X_train, y_train)"
   ]
  },
  {
   "cell_type": "code",
   "execution_count": 0,
   "metadata": {
    "colab": {},
    "colab_type": "code",
    "collapsed": true,
    "id": "ECPYNG3c6TuZ"
   },
   "outputs": [],
   "source": [
    "from sklearn.metrics import mean_absolute_error\n",
    "\n",
    "predictions = reg.predict(X_valid)\n",
    "print(f'MAE Score: {mean_absolute_error(predictions, y_valid)}')"
   ]
  },
  {
   "cell_type": "markdown",
   "metadata": {
    "colab_type": "text",
    "id": "yxkTnDsF0ZJe"
   },
   "source": [
    "### Evaluating model on test dataset"
   ]
  },
  {
   "cell_type": "code",
   "execution_count": 0,
   "metadata": {
    "colab": {},
    "colab_type": "code",
    "collapsed": true,
    "id": "0Cgk4j--sR7W"
   },
   "outputs": [],
   "source": [
    "predictions = reg.predict(X_test)\n",
    "print(f'Test (Final) MAE Score: {mean_absolute_error(predictions, y_valid)}')"
   ]
  },
  {
   "cell_type": "code",
   "execution_count": 0,
   "metadata": {
    "colab": {},
    "colab_type": "code",
    "collapsed": true,
    "id": "a5baTqAbwjiF"
   },
   "outputs": [],
   "source": []
  }
 ],
 "metadata": {
  "colab": {
   "collapsed_sections": [],
   "name": "CMPE407_Week_4.ipynb",
   "provenance": []
  },
  "kernelspec": {
   "display_name": "Python 3",
   "language": "python",
   "name": "python3"
  },
  "language_info": {
   "codemirror_mode": {
    "name": "ipython",
    "version": 3
   },
   "file_extension": ".py",
   "mimetype": "text/x-python",
   "name": "python",
   "nbconvert_exporter": "python",
   "pygments_lexer": "ipython3",
   "version": "3.6.2"
  }
 },
 "nbformat": 4,
 "nbformat_minor": 1
}
